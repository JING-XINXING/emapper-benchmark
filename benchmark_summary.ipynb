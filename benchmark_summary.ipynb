{
 "cells": [
  {
   "cell_type": "markdown",
   "metadata": {
    "deletable": true,
    "editable": true
   },
   "source": [
    "# Table of Contents\n",
    "* [Benchmarks](#Benchmarks)\n",
    "\t* [1. EggNOG-mapper vs BLAST](#1.-EggNOG-mapper-vs-BLAST)\n",
    "\t* [2. EggNOG-mapper vs InterProScan](#2.-EggNOG-mapper-vs-InterProScan)\n",
    "\t* [3. EggNOG-mapper vs CAFA2](#3.-EggNOG-mapper-vs-CAFA2)\n",
    "\t\t* [CAFA2 Evaluation code](#CAFA2-Evaluation-code)\n",
    "\t\t* [Results](#Results)\n",
    "\t\t* [CAFA2 Reference data](#CAFA2-Reference-data)\n",
    "\t* [4. EggNOG-mapper vs non-model organisms](#4.-EggNOG-mapper-vs-non-model-organisms)\n",
    "\t* [5. EggNOG-mapper vs InterProScan with metagenomics data](#5.-EggNOG-mapper-vs-InterProScan-with-metagenomics-data)\n",
    "\t\t* [Sample-0](#Sample-0)\n",
    "\t\t* [Sample-1](#Sample-1)\n",
    "\t\t* [Sample-2](#Sample-2)\n",
    "\t\t* [Sample-3](#Sample-3)\n"
   ]
  },
  {
   "cell_type": "code",
   "execution_count": 13,
   "metadata": {
    "collapsed": false,
    "deletable": true,
    "editable": true
   },
   "outputs": [
    {
     "name": "stdout",
     "output_type": "stream",
     "text": [
      "Using matplotlib backend: MacOSX\n"
     ]
    }
   ],
   "source": [
    "%matplotlib auto\n",
    "import cPickle\n",
    "import plot_functions\n",
    "reload(plot_functions)\n",
    "bench = cPickle.load(open('all_benchmark_tables.pkl'))\n"
   ]
  },
  {
   "cell_type": "markdown",
   "metadata": {
    "deletable": true,
    "editable": true
   },
   "source": [
    "# Benchmarks "
   ]
  },
  {
   "cell_type": "markdown",
   "metadata": {
    "deletable": true,
    "editable": true
   },
   "source": [
    "## 1. EggNOG-mapper vs BLAST "
   ]
  },
  {
   "cell_type": "code",
   "execution_count": 14,
   "metadata": {
    "collapsed": false,
    "deletable": true,
    "editable": true
   },
   "outputs": [
    {
     "data": {
      "text/markdown": [
       "<h3>diamond.all.NOG.experimental</h3><b>emapper_method</b> = diamond <br><b>source orthologs</b> = all <br><b>taxonomic restriction</b> = none <br><b>GO evidence code</b> = experimental <br><b>self proteome excluded</b> = yes <br><img style='width:95%;' src='plots/emapper_vs_blast.diamond.all.NOG.experimental.png'><br><pre>\n",
       "eggNOG vs BLAST (% diff)\n",
       "===============================\n",
       "TP/FP_per_protein_ratio_diff    11.112382\n",
       "TP_ratio_per_protein_diff       14.628739\n",
       "total_terms_per_prot_diff      -42.037982\n",
       "proteome_coverage_diff          -7.334076\n",
       "notp_proteins_diff              -3.808772\n",
       "tponly_proteins_diff             4.845591\n",
       "Name: AVERAGE, dtype: float64\n",
       "</pre>"
      ],
      "text/plain": [
       "<IPython.core.display.Markdown object>"
      ]
     },
     "metadata": {},
     "output_type": "display_data"
    },
    {
     "data": {
      "text/markdown": [
       "<h3>diamond.all.NOG.non-electronic</h3><b>emapper_method</b> = diamond <br><b>source orthologs</b> = all <br><b>taxonomic restriction</b> = none <br><b>GO evidence code</b> = non-electronic <br><b>self proteome excluded</b> = yes <br><img style='width:95%;' src='plots/emapper_vs_blast.diamond.all.NOG.non-electronic.png'><br><pre>\n",
       "eggNOG vs BLAST (% diff)\n",
       "===============================\n",
       "TP/FP_per_protein_ratio_diff     6.418999\n",
       "TP_ratio_per_protein_diff       17.924285\n",
       "total_terms_per_prot_diff      -46.239662\n",
       "proteome_coverage_diff          -5.675802\n",
       "notp_proteins_diff              -1.548196\n",
       "tponly_proteins_diff             7.385566\n",
       "Name: AVERAGE, dtype: float64\n",
       "</pre>"
      ],
      "text/plain": [
       "<IPython.core.display.Markdown object>"
      ]
     },
     "metadata": {},
     "output_type": "display_data"
    },
    {
     "data": {
      "text/markdown": [
       "<h3>diamond.one2one.NOG.experimental</h3><b>emapper_method</b> = diamond <br><b>source orthologs</b> = one2one <br><b>taxonomic restriction</b> = none <br><b>GO evidence code</b> = experimental <br><b>self proteome excluded</b> = yes <br><img style='width:95%;' src='plots/emapper_vs_blast.diamond.one2one.NOG.experimental.png'><br><pre>\n",
       "eggNOG vs BLAST (% diff)\n",
       "===============================\n",
       "TP/FP_per_protein_ratio_diff    17.695403\n",
       "TP_ratio_per_protein_diff       20.436260\n",
       "total_terms_per_prot_diff      -25.478763\n",
       "proteome_coverage_diff         -15.966955\n",
       "notp_proteins_diff              -6.646206\n",
       "tponly_proteins_diff             8.455283\n",
       "Name: AVERAGE, dtype: float64\n",
       "</pre>"
      ],
      "text/plain": [
       "<IPython.core.display.Markdown object>"
      ]
     },
     "metadata": {},
     "output_type": "display_data"
    },
    {
     "data": {
      "text/markdown": [
       "<h3>diamond.one2one.NOG.non-electronic</h3><b>emapper_method</b> = diamond <br><b>source orthologs</b> = one2one <br><b>taxonomic restriction</b> = none <br><b>GO evidence code</b> = non-electronic <br><b>self proteome excluded</b> = yes <br><img style='width:95%;' src='plots/emapper_vs_blast.diamond.one2one.NOG.non-electronic.png'><br><pre>\n",
       "eggNOG vs BLAST (% diff)\n",
       "===============================\n",
       "TP/FP_per_protein_ratio_diff     9.757826\n",
       "TP_ratio_per_protein_diff       27.163369\n",
       "total_terms_per_prot_diff      -29.348762\n",
       "proteome_coverage_diff         -14.261866\n",
       "notp_proteins_diff              -3.339243\n",
       "tponly_proteins_diff            17.343165\n",
       "Name: AVERAGE, dtype: float64\n",
       "</pre>"
      ],
      "text/plain": [
       "<IPython.core.display.Markdown object>"
      ]
     },
     "metadata": {},
     "output_type": "display_data"
    },
    {
     "data": {
      "text/markdown": [
       "<h3>hmmer.all.NOG.experimental</h3><b>emapper_method</b> = hmmer <br><b>source orthologs</b> = all <br><b>taxonomic restriction</b> = none <br><b>GO evidence code</b> = experimental <br><b>self proteome excluded</b> = yes <br><img style='width:95%;' src='plots/emapper_vs_blast.hmmer.all.NOG.experimental.png'><br><pre>\n",
       "eggNOG vs BLAST (% diff)\n",
       "===============================\n",
       "TP/FP_per_protein_ratio_diff    10.957720\n",
       "TP_ratio_per_protein_diff       14.512612\n",
       "total_terms_per_prot_diff      -41.545480\n",
       "proteome_coverage_diff          -8.049386\n",
       "notp_proteins_diff              -3.823758\n",
       "tponly_proteins_diff             4.758674\n",
       "Name: AVERAGE, dtype: float64\n",
       "</pre>"
      ],
      "text/plain": [
       "<IPython.core.display.Markdown object>"
      ]
     },
     "metadata": {},
     "output_type": "display_data"
    },
    {
     "data": {
      "text/markdown": [
       "<h3>hmmer.all.NOG.non-electronic</h3><b>emapper_method</b> = hmmer <br><b>source orthologs</b> = all <br><b>taxonomic restriction</b> = none <br><b>GO evidence code</b> = non-electronic <br><b>self proteome excluded</b> = yes <br><img style='width:95%;' src='plots/emapper_vs_blast.hmmer.all.NOG.non-electronic.png'><br><pre>\n",
       "eggNOG vs BLAST (% diff)\n",
       "===============================\n",
       "TP/FP_per_protein_ratio_diff     6.333264\n",
       "TP_ratio_per_protein_diff       17.768177\n",
       "total_terms_per_prot_diff      -45.702623\n",
       "proteome_coverage_diff          -6.573671\n",
       "notp_proteins_diff              -1.572453\n",
       "tponly_proteins_diff             7.233169\n",
       "Name: AVERAGE, dtype: float64\n",
       "</pre>"
      ],
      "text/plain": [
       "<IPython.core.display.Markdown object>"
      ]
     },
     "metadata": {},
     "output_type": "display_data"
    },
    {
     "data": {
      "text/markdown": [
       "<h3>hmmer.one2one.NOG.experimental</h3><b>emapper_method</b> = hmmer <br><b>source orthologs</b> = one2one <br><b>taxonomic restriction</b> = none <br><b>GO evidence code</b> = experimental <br><b>self proteome excluded</b> = yes <br><img style='width:95%;' src='plots/emapper_vs_blast.hmmer.one2one.NOG.experimental.png'><br><pre>\n",
       "eggNOG vs BLAST (% diff)\n",
       "===============================\n",
       "TP/FP_per_protein_ratio_diff    17.046694\n",
       "TP_ratio_per_protein_diff       19.838533\n",
       "total_terms_per_prot_diff      -25.767321\n",
       "proteome_coverage_diff         -15.981813\n",
       "notp_proteins_diff              -6.376151\n",
       "tponly_proteins_diff             7.837865\n",
       "Name: AVERAGE, dtype: float64\n",
       "</pre>"
      ],
      "text/plain": [
       "<IPython.core.display.Markdown object>"
      ]
     },
     "metadata": {},
     "output_type": "display_data"
    },
    {
     "data": {
      "text/markdown": [
       "<h3>hmmer.one2one.NOG.non-electronic</h3><b>emapper_method</b> = hmmer <br><b>source orthologs</b> = one2one <br><b>taxonomic restriction</b> = none <br><b>GO evidence code</b> = non-electronic <br><b>self proteome excluded</b> = yes <br><img style='width:95%;' src='plots/emapper_vs_blast.hmmer.one2one.NOG.non-electronic.png'><br><pre>\n",
       "eggNOG vs BLAST (% diff)\n",
       "===============================\n",
       "TP/FP_per_protein_ratio_diff     9.457547\n",
       "TP_ratio_per_protein_diff       25.804222\n",
       "total_terms_per_prot_diff      -29.917632\n",
       "proteome_coverage_diff         -14.075110\n",
       "notp_proteins_diff              -3.123766\n",
       "tponly_proteins_diff            15.458459\n",
       "Name: AVERAGE, dtype: float64\n",
       "</pre>"
      ],
      "text/plain": [
       "<IPython.core.display.Markdown object>"
      ]
     },
     "metadata": {},
     "output_type": "display_data"
    }
   ],
   "source": [
    "plot_functions.get_emapper_blast_summary_pdf(bench, refresh_plots=False)"
   ]
  },
  {
   "cell_type": "markdown",
   "metadata": {
    "deletable": true,
    "editable": true
   },
   "source": [
    "## 2. EggNOG-mapper vs InterProScan"
   ]
  },
  {
   "cell_type": "code",
   "execution_count": 5,
   "metadata": {
    "collapsed": false,
    "deletable": true,
    "editable": true
   },
   "outputs": [
    {
     "data": {
      "application/vnd.jupyter.widget-view+json": {
       "model_id": "73a56cbb40964c468de7ade1a415ee32"
      }
     },
     "metadata": {},
     "output_type": "display_data"
    }
   ],
   "source": [
    "plot_functions.get_emapper_interpro_summary(bench, refresh_plots=True)\n"
   ]
  },
  {
   "cell_type": "markdown",
   "metadata": {
    "collapsed": true,
    "deletable": true,
    "editable": true
   },
   "source": [
    "## 3. EggNOG-mapper vs CAFA2"
   ]
  },
  {
   "cell_type": "markdown",
   "metadata": {
    "deletable": true,
    "editable": true
   },
   "source": [
    "CAFA2 benchmark was performed using the [cafa2 emapper branch](https://github.com/jhcepas/eggnog-mapper/tree/cafa2), where only the CAFA2 trained set was used for annotation. \n",
    "\n",
    "EggNOG-mapper was run in diamond mode with default options (`--tax_scope auto --orthologs all`)\n",
    "\n"
   ]
  },
  {
   "cell_type": "code",
   "execution_count": 6,
   "metadata": {
    "collapsed": false,
    "deletable": true,
    "editable": true
   },
   "outputs": [
    {
     "data": {
      "image/png": "[encoded data removed]",
      "text/plain": [
       "<matplotlib.figure.Figure at 0x135915210>"
      ]
     },
     "metadata": {},
     "output_type": "display_data"
    }
   ],
   "source": [
    "%matplotlib inline\n",
    "plot_functions.plot_cafa2_benchmark()"
   ]
  },
  {
   "cell_type": "markdown",
   "metadata": {
    "deletable": true,
    "editable": true
   },
   "source": [
    "### CAFA2 Evaluation code "
   ]
  },
  {
   "cell_type": "markdown",
   "metadata": {
    "deletable": true,
    "editable": true
   },
   "source": [
    "Code based on the official Matlab CAFA2 [benchmarking scripts](https://github.com/yuxjiang/CAFA2#how-to-evaluate-your-own-predictions-on-cafa2-benchmarks)\n",
    "\n",
    "```\n",
    "for j = {'MFO', 'BPO', 'CCO'} \n",
    "  ont = j{1};\n",
    "  \n",
    "  target_ont_file = sprintf('../ontology/%s.mat',upper(ont)) ;\n",
    "  target_truth_file = sprintf('../benchmark/groundtruth/%sa.mat', lower(ont));\n",
    "  target_list_file = sprintf('../benchmark/lists/%s_all_NK.txt', lower(ont));\n",
    "  load(target_ont_file);\n",
    "  load(target_truth_file);\n",
    "  target_ont = eval(ont);\n",
    "  benchmark = pfp_loaditem(target_list_file, 'char');\n",
    "  \n",
    "  pred = cafa_import('../../emapper/all_seqs_filtered.dmnd-all.emapper.annotations.cafa2', target_ont, false); \n",
    "  cm_seq = pfp_seqcm(benchmark, pred, oa, 'toi', 'noroot')\n",
    "  pr = pfp_convcmstruct(cm_seq, 'pr', 'beta', 1.0);\n",
    "  prcurve = cafa_eval_seq_curve('1', benchmark, pr, 'partial');\n",
    "  fmax = pfp_seqmetric(benchmark, pred, oa, 'fmax', 'evmode', 'partial');\n",
    "  fprintf('(fmax/partial mode) all %s NK emapper (diamond-all): %f  %f\\n', ont, fmax, prcurve.coverage);\n",
    "\n",
    "end\n",
    "```"
   ]
  },
  {
   "cell_type": "markdown",
   "metadata": {
    "deletable": true,
    "editable": true
   },
   "source": [
    "### Results"
   ]
  },
  {
   "cell_type": "markdown",
   "metadata": {
    "deletable": true,
    "editable": true
   },
   "source": [
    "```\n",
    "                                                      fmax      coverage\n",
    "(fmax/partial mode) all MFO NK emapper (diamond-all): 0.644708  0.249406\n",
    "(fmax/partial mode) all BPO NK emapper (diamond-all): 0.374488  0.343023\n",
    "(fmax/partial mode) all CCO NK emapper (diamond-all): 0.471405  0.305004\n",
    "\n",
    "```"
   ]
  },
  {
   "cell_type": "markdown",
   "metadata": {
    "deletable": true,
    "editable": true
   },
   "source": [
    "### CAFA2 Reference data"
   ]
  },
  {
   "cell_type": "markdown",
   "metadata": {
    "deletable": true,
    "editable": true
   },
   "source": [
    "```\n",
    "      MFO                             BPO                               CCO\n",
    "  fmax  cov.                      fmax  cov.                        fmax  cov.\n",
    "  0.645 0.25 eggNOG-mapper **     0.461 0.09 GORBI                  0.666 0.01 GORBI                   \n",
    "  0.624 0.33 Paccanaro            0.386 0.27 SIAM                   0.666 0.02 ProFun                  \n",
    "  0.623 0.05 CBRG                 0.377 0.69 Blast2Go               0.612 0.11 PFPDB                   \n",
    "  0.606 0.22 MS-kNN               0.375 0.96 Tian Lab               0.489 0.01 APRICOT                 \n",
    "  0.606 0.04 SIFTER 2.4           0.374 0.34 eggNOG-mapper **       0.471 0.31 eggNOG-mapper  **\n",
    "  0.605 0.95 Tiran Lab            0.372 1.00 Paccanaro Lab          0.467 0.98 EVEX                    \n",
    "  0.596 0.99 EVEX                 0.366 0.98 MS-kNN                 0.462 0.98 Tiran Lab               \n",
    "  0.588 0.92 Go2Pro               0.365 0.72 SANS                   0.462 0.11 Gough Lab               \n",
    "  0.583 0.56 Orengo-FunFHMMer     0.364 0.93 Orengo-FunFHMMer-mda   0.455 0.98 MS-kNN                  \n",
    "  0.586 0.31 PFPDB                0.358 0.85 EVEX                   0.454 0.89 Orengo-FunFHMMer-mda    \n",
    "  0.577 0.30 SIAM                 0.352 0.12 ProFun                 0.448 0.94 PULP                    \n",
    "```"
   ]
  },
  {
   "cell_type": "markdown",
   "metadata": {
    "deletable": true,
    "editable": true
   },
   "source": [
    "- ./Supplementary_data/sheet/mfo_all/mfo_all_NK_partial_all_fmax_sheet.csv\n",
    "- ./Supplementary_data/sheet/bpo_all/bpo_all_NK_partial_all_fmax_sheet.csv\n",
    "- ./Supplementary_data/sheet/cco_all/cco_all_NK_partial_all_fmax_sheet.csv"
   ]
  },
  {
   "cell_type": "markdown",
   "metadata": {
    "deletable": true,
    "editable": true
   },
   "source": [
    "## 4. EggNOG-mapper vs non-model organisms"
   ]
  },
  {
   "cell_type": "code",
   "execution_count": 7,
   "metadata": {
    "collapsed": false,
    "deletable": true,
    "editable": true
   },
   "outputs": [
    {
     "data": {
      "image/png": "[encoded data removed]",
      "text/plain": [
       "<matplotlib.figure.Figure at 0x10f48a750>"
      ]
     },
     "metadata": {},
     "output_type": "display_data"
    }
   ],
   "source": [
    "%matplotlib inline\n",
    "\n",
    "import plot_functions\n",
    "reload(plot_functions)\n",
    "tag = 'hmmer.all.auto.non-electronic'\n",
    "plot_functions.plot_general_benchmark(bench[tag], ['5833', '759272'], tag)\n"
   ]
  },
  {
   "cell_type": "markdown",
   "metadata": {
    "deletable": true,
    "editable": true
   },
   "source": [
    "## 5. EggNOG-mapper vs InterProScan with metagenomics data\n",
    "\n",
    "\n"
   ]
  },
  {
   "cell_type": "markdown",
   "metadata": {
    "deletable": true,
    "editable": true
   },
   "source": [
    "### Sample-0"
   ]
  },
  {
   "cell_type": "markdown",
   "metadata": {
    "deletable": true,
    "editable": true
   },
   "source": [
    "GOs from reads: 2821   GOs from emapper: 3177   GOs from ipro: 1375"
   ]
  },
  {
   "cell_type": "markdown",
   "metadata": {
    "deletable": true,
    "editable": true
   },
   "source": [
    "```\n",
    "GO terms in either prediction or truth\n",
    " Spearman: groundtruth vs emapper  R=0.460359 e-value=5.30463e-206\n",
    " Spearman: groundtruth vs interpro R=0.114974 e-value=5.50092e-10\n",
    "GO terms in both prediction or truth\n",
    " Spearman: groundtruth vs emapper  R=0.737651 e-value=0\n",
    " Spearman: groundtruth vs interpro R=0.592108 e-value=6.34404e-124\n",
    "GO terms only in groundtruth (2821):\n",
    " Spearman: groundtruth vs emapper  R=0.699588 e-value=0\n",
    " Spearman: groundtruth vs interpro R=0.149378 e-value=1.52114e-15\n",
    "----------------------------------------------------------------------------------------------------\n",
    "```"
   ]
  },
  {
   "cell_type": "markdown",
   "metadata": {
    "deletable": true,
    "editable": true
   },
   "source": [
    "### Sample-1 "
   ]
  },
  {
   "cell_type": "markdown",
   "metadata": {
    "deletable": true,
    "editable": true
   },
   "source": [
    "GOs from reads: 2857   GOs from emapper: 3483   GOs from ipro: 1415"
   ]
  },
  {
   "cell_type": "markdown",
   "metadata": {
    "deletable": true,
    "editable": true
   },
   "source": [
    "```\n",
    "GO terms in either prediction or truth\n",
    " Spearman: groundtruth vs emapper  R=0.442596 e-value=1.69853e-202\n",
    " Spearman: groundtruth vs interpro R=0.0968784 e-value=1.45166e-07\n",
    "GO terms in both prediction or truth\n",
    " Spearman: groundtruth vs emapper  R=0.718772 e-value=0\n",
    " Spearman: groundtruth vs interpro R=0.57755 e-value=8.62059e-120\n",
    "GO terms only in groundtruth (2857):\n",
    " Spearman: groundtruth vs emapper  R=0.68179 e-value=0\n",
    " Spearman: groundtruth vs interpro R=0.130658 e-value=2.36971e-12\n",
    "----------------------------------------------------------------------------------------------------\n",
    "```"
   ]
  },
  {
   "cell_type": "markdown",
   "metadata": {
    "deletable": true,
    "editable": true
   },
   "source": [
    "### Sample-2"
   ]
  },
  {
   "cell_type": "markdown",
   "metadata": {
    "deletable": true,
    "editable": true
   },
   "source": [
    "GOs from reads: 2784   GOs from emapper: 3024   GOs from ipro: 1188"
   ]
  },
  {
   "cell_type": "markdown",
   "metadata": {
    "deletable": true,
    "editable": true
   },
   "source": [
    "```\n",
    "GO terms in either prediction or truth\n",
    " Spearman: groundtruth vs emapper  R=0.425941 e-value=6.44606e-172\n",
    " Spearman: groundtruth vs interpro R=0.186137 e-value=1.64946e-23\n",
    "GO terms in both prediction or truth\n",
    " Spearman: groundtruth vs emapper  R=0.735434 e-value=1.97626e-323\n",
    " Spearman: groundtruth vs interpro R=0.613267 e-value=1.63207e-118\n",
    "GO terms only in groundtruth (2784):\n",
    " Spearman: groundtruth vs emapper  R=0.700252 e-value=0\n",
    " Spearman: groundtruth vs interpro R=0.220734 e-value=4.54679e-32\n",
    "----------------------------------------------------------------------------------------------------\n",
    "```"
   ]
  },
  {
   "cell_type": "markdown",
   "metadata": {
    "deletable": true,
    "editable": true
   },
   "source": [
    "### Sample-3"
   ]
  },
  {
   "cell_type": "markdown",
   "metadata": {
    "deletable": true,
    "editable": true
   },
   "source": [
    "GOs from reads: 2753   GOs from emapper: 3213   GOs from ipro: 1335"
   ]
  },
  {
   "cell_type": "markdown",
   "metadata": {
    "deletable": true,
    "editable": true
   },
   "source": [
    "```\n",
    "GO terms in either prediction or truth\n",
    " Spearman: groundtruth vs emapper  R=0.439518 e-value=4.6571e-188\n",
    " Spearman: groundtruth vs interpro R=0.110921 e-value=3.10748e-09\n",
    "GO terms in both prediction or truth\n",
    " Spearman: groundtruth vs emapper  R=0.74601 e-value=0\n",
    " Spearman: groundtruth vs interpro R=0.572135 e-value=1.68626e-109\n",
    "GO terms only in groundtruth (2753):\n",
    " Spearman: groundtruth vs emapper  R=0.693588 e-value=0\n",
    " Spearman: groundtruth vs interpro R=0.152374 e-value=9.11198e-16\n",
    "----------------------------------------------------------------------------------------------------\n",
    "```"
   ]
  }
 ],
 "metadata": {
  "kernelspec": {
   "display_name": "Python 2",
   "language": "python",
   "name": "python2"
  },
  "language_info": {
   "codemirror_mode": {
    "name": "ipython",
    "version": 2
   },
   "file_extension": ".py",
   "mimetype": "text/x-python",
   "name": "python",
   "nbconvert_exporter": "python",
   "pygments_lexer": "ipython2",
   "version": "2.7.12"
  },
  "widgets": {
   "application/vnd.jupyter.widget-state+json": {
    "state": {
     "0bef0c33ab2d4d329e9502fd03f49a87": {
      "model_module": "jupyter-js-widgets",
      "model_module_version": "~2.1.4",
      "model_name": "LayoutModel",
      "state": {
       "_model_module_version": "~2.1.4",
       "_view_module_version": "~2.1.4"
      }
     },
     "0d73307e7d344811a2000b55782777af": {
      "model_module": "jupyter-js-widgets",
      "model_module_version": "~2.1.4",
      "model_name": "LayoutModel",
      "state": {
       "_model_module_version": "~2.1.4",
       "_view_module_version": "~2.1.4"
      }
     },
     "0e38a8fe51c74420af2ee8ddf9538760": {
      "model_module": "jupyter-js-widgets",
      "model_module_version": "~2.1.4",
      "model_name": "HTMLModel",
      "state": {
       "_model_module_version": "~2.1.4",
       "_view_module_version": "~2.1.4",
       "layout": "IPY_MODEL_f7d804361c5d431fab2a80365707bca9",
       "value": "<h3>hmmer.one2one.auto.non-electronic</h3><b>emapper_method</b> = hmmer <br><b>source orthologs</b> = one2one <br><b>taxonomic restriction</b> = auto <br><b>GO evidence code</b> = non-electronic <br><b>self proteome excluded</b> = yes <br><img style='width:95%;' src='plots/emapper_vs_interpro.hmmer.one2one.auto.non-electronic.png'><br><pre>\neggNOG vs interpro (% diff)\n============================\nTP/FP_per_protein_ratio_diff    -0.284723\nTP_ratio_per_protein_diff       30.402125\ntotal_terms_per_prot_diff       36.316227\nproteome_coverage_diff          -1.488728\nnotp_proteins_diff             -28.824995\ntponly_proteins_diff            39.409389\nName: AVERAGE, dtype: float64\n</pre>"
      }
     },
     "268688869a714817b3e5930427c69deb": {
      "model_module": "jupyter-js-widgets",
      "model_module_version": "~2.1.4",
      "model_name": "LayoutModel",
      "state": {
       "_model_module_version": "~2.1.4",
       "_view_module_version": "~2.1.4"
      }
     },
     "292ea0a7b16b4ce6a3a505df0fc5849c": {
      "model_module": "jupyter-js-widgets",
      "model_module_version": "~2.1.4",
      "model_name": "HTMLModel",
      "state": {
       "_model_module_version": "~2.1.4",
       "_view_module_version": "~2.1.4",
       "layout": "IPY_MODEL_648b48bf6ee94ecdbc02f651af51437f",
       "value": "<h3>hmmer.all.auto.non-electronic</h3><b>emapper_method</b> = hmmer <br><b>source orthologs</b> = all <br><b>taxonomic restriction</b> = auto <br><b>GO evidence code</b> = non-electronic <br><b>self proteome excluded</b> = yes <br><img style='width:95%;' src='plots/emapper_vs_interpro.hmmer.all.auto.non-electronic.png'><br><pre>\neggNOG vs interpro (% diff)\n============================\nTP/FP_per_protein_ratio_diff    -0.850979\nTP_ratio_per_protein_diff       19.785279\ntotal_terms_per_prot_diff       30.029758\nproteome_coverage_diff           5.006747\nnotp_proteins_diff             -24.850125\ntponly_proteins_diff            26.501316\nName: AVERAGE, dtype: float64\n</pre>"
      }
     },
     "2ad104ba514545f9b6e4a31d124a7263": {
      "model_module": "jupyter-js-widgets",
      "model_module_version": "~2.1.4",
      "model_name": "TabModel",
      "state": {
       "_model_module_version": "~2.1.4",
       "_titles": {
        "0": " diamond.all.experimental",
        "1": "diamond.all.non-electronic",
        "2": "diamond.one2one.experimental",
        "3": "diamond.one2one.non-electronic",
        "4": "   hmmer.all.experimental",
        "5": " hmmer.all.non-electronic",
        "6": "hmmer.one2one.experimental",
        "7": "hmmer.one2one.non-electronic"
       },
       "_view_module_version": "~2.1.4",
       "children": [
        "IPY_MODEL_c38c2aab54a64cec8178e22aa9299c68",
        "IPY_MODEL_41482572ad164cf0803fd98773fa37b4",
        "IPY_MODEL_fb5106887d45470a82918b80ec0308dd",
        "IPY_MODEL_2bd70b5b83f1434daca0789cd76692e2",
        "IPY_MODEL_abaf5bd9ec0746cea28f418e6d50aeed",
        "IPY_MODEL_319958ea042c4b5fa73d8bb59304893f",
        "IPY_MODEL_3d20dca80afb4915bbe9f362f246bb41",
        "IPY_MODEL_c4d95bf0c3a7424b8b1dcbf5d6f261c0"
       ],
       "layout": "IPY_MODEL_a97db6d8834d4cbaa2a5e684708e5297"
      }
     },
     "2b30b1060bd740cc8236ab8da6a16968": {
      "model_module": "jupyter-js-widgets",
      "model_module_version": "~2.1.4",
      "model_name": "HTMLModel",
      "state": {
       "_model_module_version": "~2.1.4",
       "_view_module_version": "~2.1.4",
       "layout": "IPY_MODEL_af145a7147604c22867f5e6ec8a550bb",
       "value": "<h3>diamond.all.auto.experimental</h3><b>emapper_method</b> = diamond <br><b>source orthologs</b> = all <br><b>taxonomic restriction</b> = auto <br><b>GO evidence code</b> = experimental <br><b>self proteome excluded</b> = yes <br><img style='width:95%;' src='plots/emapper_vs_interpro.diamond.all.auto.experimental.png'><br><pre>\neggNOG vs interpro (% diff)\n============================\nTP/FP_per_protein_ratio_diff    -1.825274\nTP_ratio_per_protein_diff       35.572913\ntotal_terms_per_prot_diff       38.999130\nproteome_coverage_diff          -7.889744\nnotp_proteins_diff             -37.474789\ntponly_proteins_diff            41.642895\nName: AVERAGE, dtype: float64\n</pre>"
      }
     },
     "2bd70b5b83f1434daca0789cd76692e2": {
      "model_module": "jupyter-js-widgets",
      "model_module_version": "~2.1.4",
      "model_name": "HTMLModel",
      "state": {
       "_model_module_version": "~2.1.4",
       "_view_module_version": "~2.1.4",
       "layout": "IPY_MODEL_d83a9a466bf04e9784afe8f471cf275b",
       "value": "<h3>diamond.one2one.NOG.non-electronic</h3><b>emapper_method</b> = diamond <br><b>source orthologs</b> = one2one <br><b>taxonomic restriction</b> = none <br><b>GO evidence code</b> = non-electronic <br><b>self proteome excluded</b> = yes <br><img style='width:95%;' src='plots/emapper_vs_blast.diamond.one2one.NOG.non-electronic.png'><br><pre>\neggNOG vs BLAST (% diff)\n===============================\nTP/FP_per_protein_ratio_diff     9.757826\nTP_ratio_per_protein_diff       27.163369\ntotal_terms_per_prot_diff      -29.348762\nproteome_coverage_diff         -14.261866\nnotp_proteins_diff              -3.339243\ntponly_proteins_diff            17.343165\nName: AVERAGE, dtype: float64\n</pre>"
      }
     },
     "319958ea042c4b5fa73d8bb59304893f": {
      "model_module": "jupyter-js-widgets",
      "model_module_version": "~2.1.4",
      "model_name": "HTMLModel",
      "state": {
       "_model_module_version": "~2.1.4",
       "_view_module_version": "~2.1.4",
       "layout": "IPY_MODEL_0bef0c33ab2d4d329e9502fd03f49a87",
       "value": "<h3>hmmer.all.NOG.non-electronic</h3><b>emapper_method</b> = hmmer <br><b>source orthologs</b> = all <br><b>taxonomic restriction</b> = none <br><b>GO evidence code</b> = non-electronic <br><b>self proteome excluded</b> = yes <br><img style='width:95%;' src='plots/emapper_vs_blast.hmmer.all.NOG.non-electronic.png'><br><pre>\neggNOG vs BLAST (% diff)\n===============================\nTP/FP_per_protein_ratio_diff     6.333264\nTP_ratio_per_protein_diff       17.768177\ntotal_terms_per_prot_diff      -45.702623\nproteome_coverage_diff          -6.573671\nnotp_proteins_diff              -1.572453\ntponly_proteins_diff             7.233169\nName: AVERAGE, dtype: float64\n</pre>"
      }
     },
     "3b32e27fe244472a996fe7aa8ce16805": {
      "model_module": "jupyter-js-widgets",
      "model_module_version": "~2.1.4",
      "model_name": "HTMLModel",
      "state": {
       "_model_module_version": "~2.1.4",
       "_view_module_version": "~2.1.4",
       "layout": "IPY_MODEL_67364dadec0c4b84a43366c081d5f74e",
       "value": "<h3>diamond.one2one.auto.experimental</h3><b>emapper_method</b> = diamond <br><b>source orthologs</b> = one2one <br><b>taxonomic restriction</b> = auto <br><b>GO evidence code</b> = experimental <br><b>self proteome excluded</b> = yes <br><img style='width:95%;' src='plots/emapper_vs_interpro.diamond.one2one.auto.experimental.png'><br><pre>\neggNOG vs interpro (% diff)\n============================\nTP/FP_per_protein_ratio_diff    -0.327705\nTP_ratio_per_protein_diff       50.063061\ntotal_terms_per_prot_diff       50.919367\nproteome_coverage_diff         -15.367562\nnotp_proteins_diff             -45.499198\ntponly_proteins_diff            56.469885\nName: AVERAGE, dtype: float64\n</pre>"
      }
     },
     "3d20dca80afb4915bbe9f362f246bb41": {
      "model_module": "jupyter-js-widgets",
      "model_module_version": "~2.1.4",
      "model_name": "HTMLModel",
      "state": {
       "_model_module_version": "~2.1.4",
       "_view_module_version": "~2.1.4",
       "layout": "IPY_MODEL_a333212869f34a5599a358edf3080faa",
       "value": "<h3>hmmer.one2one.NOG.experimental</h3><b>emapper_method</b> = hmmer <br><b>source orthologs</b> = one2one <br><b>taxonomic restriction</b> = none <br><b>GO evidence code</b> = experimental <br><b>self proteome excluded</b> = yes <br><img style='width:95%;' src='plots/emapper_vs_blast.hmmer.one2one.NOG.experimental.png'><br><pre>\neggNOG vs BLAST (% diff)\n===============================\nTP/FP_per_protein_ratio_diff    17.046694\nTP_ratio_per_protein_diff       19.838533\ntotal_terms_per_prot_diff      -25.767321\nproteome_coverage_diff         -15.981813\nnotp_proteins_diff              -6.376151\ntponly_proteins_diff             7.837865\nName: AVERAGE, dtype: float64\n</pre>"
      }
     },
     "41482572ad164cf0803fd98773fa37b4": {
      "model_module": "jupyter-js-widgets",
      "model_module_version": "~2.1.4",
      "model_name": "HTMLModel",
      "state": {
       "_model_module_version": "~2.1.4",
       "_view_module_version": "~2.1.4",
       "layout": "IPY_MODEL_9dac4b1efe694d939b43d12ba115c070",
       "value": "<h3>diamond.all.NOG.non-electronic</h3><b>emapper_method</b> = diamond <br><b>source orthologs</b> = all <br><b>taxonomic restriction</b> = none <br><b>GO evidence code</b> = non-electronic <br><b>self proteome excluded</b> = yes <br><img style='width:95%;' src='plots/emapper_vs_blast.diamond.all.NOG.non-electronic.png'><br><pre>\neggNOG vs BLAST (% diff)\n===============================\nTP/FP_per_protein_ratio_diff     6.418999\nTP_ratio_per_protein_diff       17.924285\ntotal_terms_per_prot_diff      -46.239662\nproteome_coverage_diff          -5.675802\nnotp_proteins_diff              -1.548196\ntponly_proteins_diff             7.385566\nName: AVERAGE, dtype: float64\n</pre>"
      }
     },
     "45badee2219f4f17a8b56a1a4554eaa8": {
      "model_module": "jupyter-js-widgets",
      "model_module_version": "~2.1.4",
      "model_name": "HTMLModel",
      "state": {
       "_model_module_version": "~2.1.4",
       "_view_module_version": "~2.1.4",
       "layout": "IPY_MODEL_fef98faa5a0e453b9a7b68206bd2a796",
       "value": "<h3>hmmer.one2one.auto.experimental</h3><b>emapper_method</b> = hmmer <br><b>source orthologs</b> = one2one <br><b>taxonomic restriction</b> = auto <br><b>GO evidence code</b> = experimental <br><b>self proteome excluded</b> = yes <br><img style='width:95%;' src='plots/emapper_vs_interpro.hmmer.one2one.auto.experimental.png'><br><pre>\neggNOG vs interpro (% diff)\n============================\nTP/FP_per_protein_ratio_diff    -0.403368\nTP_ratio_per_protein_diff       47.888182\ntotal_terms_per_prot_diff       51.524472\nproteome_coverage_diff         -16.563933\nnotp_proteins_diff             -44.534599\ntponly_proteins_diff            54.362443\nName: AVERAGE, dtype: float64\n</pre>"
      }
     },
     "494558349325401b8f2ff2a53a4dd2f1": {
      "model_module": "jupyter-js-widgets",
      "model_module_version": "~2.1.4",
      "model_name": "LayoutModel",
      "state": {
       "_model_module_version": "~2.1.4",
       "_view_module_version": "~2.1.4"
      }
     },
     "599038059d3d458e939704ae271d270f": {
      "model_module": "jupyter-js-widgets",
      "model_module_version": "~2.1.4",
      "model_name": "HTMLModel",
      "state": {
       "_model_module_version": "~2.1.4",
       "_view_module_version": "~2.1.4",
       "layout": "IPY_MODEL_96c4c05ff32945edae03a5e471d8cdfc",
       "value": "<h3>hmmer.all.auto.experimental</h3><b>emapper_method</b> = hmmer <br><b>source orthologs</b> = all <br><b>taxonomic restriction</b> = auto <br><b>GO evidence code</b> = experimental <br><b>self proteome excluded</b> = yes <br><img style='width:95%;' src='plots/emapper_vs_interpro.hmmer.all.auto.experimental.png'><br><pre>\neggNOG vs interpro (% diff)\n============================\nTP/FP_per_protein_ratio_diff    -1.569621\nTP_ratio_per_protein_diff       35.180020\ntotal_terms_per_prot_diff       41.209757\nproteome_coverage_diff         -10.178250\nnotp_proteins_diff             -37.257175\ntponly_proteins_diff            39.734516\nName: AVERAGE, dtype: float64\n</pre>"
      }
     },
     "63b178ae778248488cf0a899454f41a2": {
      "model_module": "jupyter-js-widgets",
      "model_module_version": "~2.1.4",
      "model_name": "TabModel",
      "state": {
       "_model_module_version": "~2.1.4",
       "_titles": {
        "0": "diamond.all.auto.experimental",
        "1": "diamond.all.auto.non-electronic",
        "2": "diamond.one2one.auto.experimental",
        "3": "diamond.one2one.auto.non-electronic",
        "4": "hmmer.all.auto.experimental",
        "5": "hmmer.all.auto.non-electronic",
        "6": "hmmer.one2one.auto.experimental",
        "7": "hmmer.one2one.auto.non-electronic"
       },
       "_view_module_version": "~2.1.4",
       "children": [
        "IPY_MODEL_2b30b1060bd740cc8236ab8da6a16968",
        "IPY_MODEL_673d5e1bac114533a0f8acbd82a00d20",
        "IPY_MODEL_3b32e27fe244472a996fe7aa8ce16805",
        "IPY_MODEL_95151608478e4f309538f75d678370b9",
        "IPY_MODEL_599038059d3d458e939704ae271d270f",
        "IPY_MODEL_292ea0a7b16b4ce6a3a505df0fc5849c",
        "IPY_MODEL_45badee2219f4f17a8b56a1a4554eaa8",
        "IPY_MODEL_0e38a8fe51c74420af2ee8ddf9538760"
       ],
       "layout": "IPY_MODEL_268688869a714817b3e5930427c69deb"
      }
     },
     "648b48bf6ee94ecdbc02f651af51437f": {
      "model_module": "jupyter-js-widgets",
      "model_module_version": "~2.1.4",
      "model_name": "LayoutModel",
      "state": {
       "_model_module_version": "~2.1.4",
       "_view_module_version": "~2.1.4"
      }
     },
     "67364dadec0c4b84a43366c081d5f74e": {
      "model_module": "jupyter-js-widgets",
      "model_module_version": "~2.1.4",
      "model_name": "LayoutModel",
      "state": {
       "_model_module_version": "~2.1.4",
       "_view_module_version": "~2.1.4"
      }
     },
     "673d5e1bac114533a0f8acbd82a00d20": {
      "model_module": "jupyter-js-widgets",
      "model_module_version": "~2.1.4",
      "model_name": "HTMLModel",
      "state": {
       "_model_module_version": "~2.1.4",
       "_view_module_version": "~2.1.4",
       "layout": "IPY_MODEL_f734d41bc78c4742a7aaa5fee8ad9d30",
       "value": "<h3>diamond.all.auto.non-electronic</h3><b>emapper_method</b> = diamond <br><b>source orthologs</b> = all <br><b>taxonomic restriction</b> = auto <br><b>GO evidence code</b> = non-electronic <br><b>self proteome excluded</b> = yes <br><img style='width:95%;' src='plots/emapper_vs_interpro.diamond.all.auto.non-electronic.png'><br><pre>\neggNOG vs interpro (% diff)\n============================\nTP/FP_per_protein_ratio_diff    -1.058377\nTP_ratio_per_protein_diff       19.771667\ntotal_terms_per_prot_diff       28.500226\nproteome_coverage_diff           7.558013\nnotp_proteins_diff             -24.588321\ntponly_proteins_diff            27.428743\nName: AVERAGE, dtype: float64\n</pre>"
      }
     },
     "90d64ab140684cdea0f747ed4079745f": {
      "model_module": "jupyter-js-widgets",
      "model_module_version": "~2.1.4",
      "model_name": "LayoutModel",
      "state": {
       "_model_module_version": "~2.1.4",
       "_view_module_version": "~2.1.4"
      }
     },
     "95151608478e4f309538f75d678370b9": {
      "model_module": "jupyter-js-widgets",
      "model_module_version": "~2.1.4",
      "model_name": "HTMLModel",
      "state": {
       "_model_module_version": "~2.1.4",
       "_view_module_version": "~2.1.4",
       "layout": "IPY_MODEL_494558349325401b8f2ff2a53a4dd2f1",
       "value": "<h3>diamond.one2one.auto.non-electronic</h3><b>emapper_method</b> = diamond <br><b>source orthologs</b> = one2one <br><b>taxonomic restriction</b> = auto <br><b>GO evidence code</b> = non-electronic <br><b>self proteome excluded</b> = yes <br><img style='width:95%;' src='plots/emapper_vs_interpro.diamond.one2one.auto.non-electronic.png'><br><pre>\neggNOG vs interpro (% diff)\n============================\nTP/FP_per_protein_ratio_diff    -0.277410\nTP_ratio_per_protein_diff       32.217196\ntotal_terms_per_prot_diff       35.974470\nproteome_coverage_diff          -0.229441\nnotp_proteins_diff             -29.242875\ntponly_proteins_diff            41.370747\nName: AVERAGE, dtype: float64\n</pre>"
      }
     },
     "96c4c05ff32945edae03a5e471d8cdfc": {
      "model_module": "jupyter-js-widgets",
      "model_module_version": "~2.1.4",
      "model_name": "LayoutModel",
      "state": {
       "_model_module_version": "~2.1.4",
       "_view_module_version": "~2.1.4"
      }
     },
     "9dac4b1efe694d939b43d12ba115c070": {
      "model_module": "jupyter-js-widgets",
      "model_module_version": "~2.1.4",
      "model_name": "LayoutModel",
      "state": {
       "_model_module_version": "~2.1.4",
       "_view_module_version": "~2.1.4"
      }
     },
     "a21547e15e654636b59ea7e169c20a51": {
      "model_module": "jupyter-js-widgets",
      "model_module_version": "~2.1.4",
      "model_name": "LayoutModel",
      "state": {
       "_model_module_version": "~2.1.4",
       "_view_module_version": "~2.1.4"
      }
     },
     "a333212869f34a5599a358edf3080faa": {
      "model_module": "jupyter-js-widgets",
      "model_module_version": "~2.1.4",
      "model_name": "LayoutModel",
      "state": {
       "_model_module_version": "~2.1.4",
       "_view_module_version": "~2.1.4"
      }
     },
     "a97db6d8834d4cbaa2a5e684708e5297": {
      "model_module": "jupyter-js-widgets",
      "model_module_version": "~2.1.4",
      "model_name": "LayoutModel",
      "state": {
       "_model_module_version": "~2.1.4",
       "_view_module_version": "~2.1.4"
      }
     },
     "abaf5bd9ec0746cea28f418e6d50aeed": {
      "model_module": "jupyter-js-widgets",
      "model_module_version": "~2.1.4",
      "model_name": "HTMLModel",
      "state": {
       "_model_module_version": "~2.1.4",
       "_view_module_version": "~2.1.4",
       "layout": "IPY_MODEL_a21547e15e654636b59ea7e169c20a51",
       "value": "<h3>hmmer.all.NOG.experimental</h3><b>emapper_method</b> = hmmer <br><b>source orthologs</b> = all <br><b>taxonomic restriction</b> = none <br><b>GO evidence code</b> = experimental <br><b>self proteome excluded</b> = yes <br><img style='width:95%;' src='plots/emapper_vs_blast.hmmer.all.NOG.experimental.png'><br><pre>\neggNOG vs BLAST (% diff)\n===============================\nTP/FP_per_protein_ratio_diff    10.957720\nTP_ratio_per_protein_diff       14.512612\ntotal_terms_per_prot_diff      -41.545480\nproteome_coverage_diff          -8.049386\nnotp_proteins_diff              -3.823758\ntponly_proteins_diff             4.758674\nName: AVERAGE, dtype: float64\n</pre>"
      }
     },
     "af145a7147604c22867f5e6ec8a550bb": {
      "model_module": "jupyter-js-widgets",
      "model_module_version": "~2.1.4",
      "model_name": "LayoutModel",
      "state": {
       "_model_module_version": "~2.1.4",
       "_view_module_version": "~2.1.4"
      }
     },
     "c38c2aab54a64cec8178e22aa9299c68": {
      "model_module": "jupyter-js-widgets",
      "model_module_version": "~2.1.4",
      "model_name": "HTMLModel",
      "state": {
       "_model_module_version": "~2.1.4",
       "_view_module_version": "~2.1.4",
       "layout": "IPY_MODEL_90d64ab140684cdea0f747ed4079745f",
       "value": "<h3>diamond.all.NOG.experimental</h3><b>emapper_method</b> = diamond <br><b>source orthologs</b> = all <br><b>taxonomic restriction</b> = none <br><b>GO evidence code</b> = experimental <br><b>self proteome excluded</b> = yes <br><img style='width:95%;' src='plots/emapper_vs_blast.diamond.all.NOG.experimental.png'><br><pre>\neggNOG vs BLAST (% diff)\n===============================\nTP/FP_per_protein_ratio_diff    11.112382\nTP_ratio_per_protein_diff       14.628739\ntotal_terms_per_prot_diff      -42.037982\nproteome_coverage_diff          -7.334076\nnotp_proteins_diff              -3.808772\ntponly_proteins_diff             4.845591\nName: AVERAGE, dtype: float64\n</pre>"
      }
     },
     "c4d95bf0c3a7424b8b1dcbf5d6f261c0": {
      "model_module": "jupyter-js-widgets",
      "model_module_version": "~2.1.4",
      "model_name": "HTMLModel",
      "state": {
       "_model_module_version": "~2.1.4",
       "_view_module_version": "~2.1.4",
       "layout": "IPY_MODEL_f3e23e78c1d14f5fa6643a90da6bc838",
       "value": "<h3>hmmer.one2one.NOG.non-electronic</h3><b>emapper_method</b> = hmmer <br><b>source orthologs</b> = one2one <br><b>taxonomic restriction</b> = none <br><b>GO evidence code</b> = non-electronic <br><b>self proteome excluded</b> = yes <br><img style='width:95%;' src='plots/emapper_vs_blast.hmmer.one2one.NOG.non-electronic.png'><br><pre>\neggNOG vs BLAST (% diff)\n===============================\nTP/FP_per_protein_ratio_diff     9.457547\nTP_ratio_per_protein_diff       25.804222\ntotal_terms_per_prot_diff      -29.917632\nproteome_coverage_diff         -14.075110\nnotp_proteins_diff              -3.123766\ntponly_proteins_diff            15.458459\nName: AVERAGE, dtype: float64\n</pre>"
      }
     },
     "d83a9a466bf04e9784afe8f471cf275b": {
      "model_module": "jupyter-js-widgets",
      "model_module_version": "~2.1.4",
      "model_name": "LayoutModel",
      "state": {
       "_model_module_version": "~2.1.4",
       "_view_module_version": "~2.1.4"
      }
     },
     "f3e23e78c1d14f5fa6643a90da6bc838": {
      "model_module": "jupyter-js-widgets",
      "model_module_version": "~2.1.4",
      "model_name": "LayoutModel",
      "state": {
       "_model_module_version": "~2.1.4",
       "_view_module_version": "~2.1.4"
      }
     },
     "f734d41bc78c4742a7aaa5fee8ad9d30": {
      "model_module": "jupyter-js-widgets",
      "model_module_version": "~2.1.4",
      "model_name": "LayoutModel",
      "state": {
       "_model_module_version": "~2.1.4",
       "_view_module_version": "~2.1.4"
      }
     },
     "f7d804361c5d431fab2a80365707bca9": {
      "model_module": "jupyter-js-widgets",
      "model_module_version": "~2.1.4",
      "model_name": "LayoutModel",
      "state": {
       "_model_module_version": "~2.1.4",
       "_view_module_version": "~2.1.4"
      }
     },
     "fb5106887d45470a82918b80ec0308dd": {
      "model_module": "jupyter-js-widgets",
      "model_module_version": "~2.1.4",
      "model_name": "HTMLModel",
      "state": {
       "_model_module_version": "~2.1.4",
       "_view_module_version": "~2.1.4",
       "layout": "IPY_MODEL_0d73307e7d344811a2000b55782777af",
       "value": "<h3>diamond.one2one.NOG.experimental</h3><b>emapper_method</b> = diamond <br><b>source orthologs</b> = one2one <br><b>taxonomic restriction</b> = none <br><b>GO evidence code</b> = experimental <br><b>self proteome excluded</b> = yes <br><img style='width:95%;' src='plots/emapper_vs_blast.diamond.one2one.NOG.experimental.png'><br><pre>\neggNOG vs BLAST (% diff)\n===============================\nTP/FP_per_protein_ratio_diff    17.695403\nTP_ratio_per_protein_diff       20.436260\ntotal_terms_per_prot_diff      -25.478763\nproteome_coverage_diff         -15.966955\nnotp_proteins_diff              -6.646206\ntponly_proteins_diff             8.455283\nName: AVERAGE, dtype: float64\n</pre>"
      }
     },
     "fef98faa5a0e453b9a7b68206bd2a796": {
      "model_module": "jupyter-js-widgets",
      "model_module_version": "~2.1.4",
      "model_name": "LayoutModel",
      "state": {
       "_model_module_version": "~2.1.4",
       "_view_module_version": "~2.1.4"
      }
     }
    },
    "version_major": 1,
    "version_minor": 0
   }
  }
 },
 "nbformat": 4,
 "nbformat_minor": 0
}
